{
 "cells": [
  {
   "cell_type": "code",
   "execution_count": 1,
   "metadata": {},
   "outputs": [],
   "source": [
    "import warnings\n",
    "warnings.filterwarnings('ignore')\n",
    "\n",
    "# Import Neccessary libraries\n",
    "import numpy as np\n",
    "import pandas as pd\n",
    "\n",
    "# Import Visualization libraries\n",
    "import matplotlib.pyplot as plt\n",
    "import seaborn as sns\n",
    "\n",
    "#Import Model\n",
    "from sklearn.model_selection import train_test_split, GridSearchCV\n",
    "from sklearn.preprocessing import StandardScaler, OneHotEncoder\n",
    "from sklearn.compose import ColumnTransformer\n",
    "from sklearn.ensemble import RandomForestClassifier\n",
    "from sklearn.metrics import accuracy_score, classification_report, confusion_matrix\n",
    "from sklearn.pipeline import Pipeline\n",
    "\n",
    "#Import Sampler libraries\n",
    "from imblearn.over_sampling import SMOTE\n",
    "from imblearn.under_sampling import RandomUnderSampler\n",
    "from imblearn.pipeline import Pipeline as imbPipeline\n",
    "\n",
    "# Set the decimal format\n",
    "pd.options.display.float_format = \"{:.2f}\".format\n",
    "\n",
    "from sklearn.linear_model import LogisticRegression\n",
    "from sklearn.svm import SVC\n",
    "from sklearn.discriminant_analysis import LinearDiscriminantAnalysis\n",
    "\n",
    "\n"
   ]
  },
  {
   "cell_type": "code",
   "execution_count": 2,
   "metadata": {},
   "outputs": [
    {
     "data": {
      "text/html": [
       "<div>\n",
       "<style scoped>\n",
       "    .dataframe tbody tr th:only-of-type {\n",
       "        vertical-align: middle;\n",
       "    }\n",
       "\n",
       "    .dataframe tbody tr th {\n",
       "        vertical-align: top;\n",
       "    }\n",
       "\n",
       "    .dataframe thead th {\n",
       "        text-align: right;\n",
       "    }\n",
       "</style>\n",
       "<table border=\"1\" class=\"dataframe\">\n",
       "  <thead>\n",
       "    <tr style=\"text-align: right;\">\n",
       "      <th></th>\n",
       "      <th>gender</th>\n",
       "      <th>age</th>\n",
       "      <th>hypertension</th>\n",
       "      <th>heart_disease</th>\n",
       "      <th>smoking_history</th>\n",
       "      <th>bmi</th>\n",
       "      <th>HbA1c_level</th>\n",
       "      <th>blood_glucose_level</th>\n",
       "      <th>diabetes</th>\n",
       "    </tr>\n",
       "  </thead>\n",
       "  <tbody>\n",
       "    <tr>\n",
       "      <th>0</th>\n",
       "      <td>Female</td>\n",
       "      <td>80.00</td>\n",
       "      <td>0</td>\n",
       "      <td>1</td>\n",
       "      <td>never</td>\n",
       "      <td>25.19</td>\n",
       "      <td>6.60</td>\n",
       "      <td>140</td>\n",
       "      <td>0</td>\n",
       "    </tr>\n",
       "    <tr>\n",
       "      <th>1</th>\n",
       "      <td>Female</td>\n",
       "      <td>54.00</td>\n",
       "      <td>0</td>\n",
       "      <td>0</td>\n",
       "      <td>No Info</td>\n",
       "      <td>27.32</td>\n",
       "      <td>6.60</td>\n",
       "      <td>80</td>\n",
       "      <td>0</td>\n",
       "    </tr>\n",
       "    <tr>\n",
       "      <th>2</th>\n",
       "      <td>Male</td>\n",
       "      <td>28.00</td>\n",
       "      <td>0</td>\n",
       "      <td>0</td>\n",
       "      <td>never</td>\n",
       "      <td>27.32</td>\n",
       "      <td>5.70</td>\n",
       "      <td>158</td>\n",
       "      <td>0</td>\n",
       "    </tr>\n",
       "    <tr>\n",
       "      <th>3</th>\n",
       "      <td>Female</td>\n",
       "      <td>36.00</td>\n",
       "      <td>0</td>\n",
       "      <td>0</td>\n",
       "      <td>current</td>\n",
       "      <td>23.45</td>\n",
       "      <td>5.00</td>\n",
       "      <td>155</td>\n",
       "      <td>0</td>\n",
       "    </tr>\n",
       "    <tr>\n",
       "      <th>4</th>\n",
       "      <td>Male</td>\n",
       "      <td>76.00</td>\n",
       "      <td>1</td>\n",
       "      <td>1</td>\n",
       "      <td>current</td>\n",
       "      <td>20.14</td>\n",
       "      <td>4.80</td>\n",
       "      <td>155</td>\n",
       "      <td>0</td>\n",
       "    </tr>\n",
       "  </tbody>\n",
       "</table>\n",
       "</div>"
      ],
      "text/plain": [
       "   gender   age  hypertension  heart_disease smoking_history   bmi  \\\n",
       "0  Female 80.00             0              1           never 25.19   \n",
       "1  Female 54.00             0              0         No Info 27.32   \n",
       "2    Male 28.00             0              0           never 27.32   \n",
       "3  Female 36.00             0              0         current 23.45   \n",
       "4    Male 76.00             1              1         current 20.14   \n",
       "\n",
       "   HbA1c_level  blood_glucose_level  diabetes  \n",
       "0         6.60                  140         0  \n",
       "1         6.60                   80         0  \n",
       "2         5.70                  158         0  \n",
       "3         5.00                  155         0  \n",
       "4         4.80                  155         0  "
      ]
     },
     "execution_count": 2,
     "metadata": {},
     "output_type": "execute_result"
    }
   ],
   "source": [
    "df = pd.read_csv('diabetes_prediction_dataset.csv')\n",
    "df.head()"
   ]
  },
  {
   "cell_type": "code",
   "execution_count": 3,
   "metadata": {},
   "outputs": [
    {
     "name": "stdout",
     "output_type": "stream",
     "text": [
      "number of duplicate rows:  (3854, 9)\n"
     ]
    }
   ],
   "source": [
    "duplicate_rows_data = df[df.duplicated()]\n",
    "print(\"number of duplicate rows: \", duplicate_rows_data.shape)\n",
    "df = df.drop_duplicates()\n",
    "\n",
    "# Remove Unneccessary value [0.00195%]\n",
    "df = df[df['gender'] != 'Other']"
   ]
  },
  {
   "cell_type": "code",
   "execution_count": 4,
   "metadata": {},
   "outputs": [
    {
     "name": "stdout",
     "output_type": "stream",
     "text": [
      "gender: 2 distinct values\n",
      "age: 102 distinct values\n",
      "hypertension: 2 distinct values\n",
      "heart_disease: 2 distinct values\n",
      "smoking_history: 6 distinct values\n",
      "bmi: 4247 distinct values\n",
      "HbA1c_level: 18 distinct values\n",
      "blood_glucose_level: 18 distinct values\n",
      "diabetes: 2 distinct values\n"
     ]
    }
   ],
   "source": [
    "# Loop through each column and count the number of distinct values\n",
    "for column in df.columns:\n",
    "    num_distinct_values = len(df[column].unique())\n",
    "    print(f\"{column}: {num_distinct_values} distinct values\")"
   ]
  },
  {
   "cell_type": "code",
   "execution_count": 5,
   "metadata": {},
   "outputs": [
    {
     "name": "stdout",
     "output_type": "stream",
     "text": [
      "gender                 0\n",
      "age                    0\n",
      "hypertension           0\n",
      "heart_disease          0\n",
      "smoking_history        0\n",
      "bmi                    0\n",
      "HbA1c_level            0\n",
      "blood_glucose_level    0\n",
      "diabetes               0\n",
      "dtype: int64\n"
     ]
    }
   ],
   "source": [
    "# Checking null values\n",
    "print(df.isnull().sum())"
   ]
  },
  {
   "cell_type": "code",
   "execution_count": 6,
   "metadata": {},
   "outputs": [],
   "source": [
    "# Remove Unneccessary value [0.00195%]\n",
    "df = df[df['gender'] != 'Other']"
   ]
  },
  {
   "cell_type": "code",
   "execution_count": 7,
   "metadata": {},
   "outputs": [
    {
     "data": {
      "text/html": [
       "<style type=\"text/css\">\n",
       "</style>\n",
       "<table id=\"T_2094d\">\n",
       "  <thead>\n",
       "    <tr>\n",
       "      <th class=\"blank level0\" >&nbsp;</th>\n",
       "      <th id=\"T_2094d_level0_col0\" class=\"col_heading level0 col0\" >age</th>\n",
       "      <th id=\"T_2094d_level0_col1\" class=\"col_heading level0 col1\" >hypertension</th>\n",
       "      <th id=\"T_2094d_level0_col2\" class=\"col_heading level0 col2\" >heart_disease</th>\n",
       "      <th id=\"T_2094d_level0_col3\" class=\"col_heading level0 col3\" >bmi</th>\n",
       "      <th id=\"T_2094d_level0_col4\" class=\"col_heading level0 col4\" >HbA1c_level</th>\n",
       "      <th id=\"T_2094d_level0_col5\" class=\"col_heading level0 col5\" >blood_glucose_level</th>\n",
       "      <th id=\"T_2094d_level0_col6\" class=\"col_heading level0 col6\" >diabetes</th>\n",
       "    </tr>\n",
       "  </thead>\n",
       "  <tbody>\n",
       "    <tr>\n",
       "      <th id=\"T_2094d_level0_row0\" class=\"row_heading level0 row0\" >count</th>\n",
       "      <td id=\"T_2094d_row0_col0\" class=\"data row0 col0\" >96128.00</td>\n",
       "      <td id=\"T_2094d_row0_col1\" class=\"data row0 col1\" >96128.00</td>\n",
       "      <td id=\"T_2094d_row0_col2\" class=\"data row0 col2\" >96128.00</td>\n",
       "      <td id=\"T_2094d_row0_col3\" class=\"data row0 col3\" >96128.00</td>\n",
       "      <td id=\"T_2094d_row0_col4\" class=\"data row0 col4\" >96128.00</td>\n",
       "      <td id=\"T_2094d_row0_col5\" class=\"data row0 col5\" >96128.00</td>\n",
       "      <td id=\"T_2094d_row0_col6\" class=\"data row0 col6\" >96128.00</td>\n",
       "    </tr>\n",
       "    <tr>\n",
       "      <th id=\"T_2094d_level0_row1\" class=\"row_heading level0 row1\" >mean</th>\n",
       "      <td id=\"T_2094d_row1_col0\" class=\"data row1 col0\" >41.80</td>\n",
       "      <td id=\"T_2094d_row1_col1\" class=\"data row1 col1\" >0.08</td>\n",
       "      <td id=\"T_2094d_row1_col2\" class=\"data row1 col2\" >0.04</td>\n",
       "      <td id=\"T_2094d_row1_col3\" class=\"data row1 col3\" >27.32</td>\n",
       "      <td id=\"T_2094d_row1_col4\" class=\"data row1 col4\" >5.53</td>\n",
       "      <td id=\"T_2094d_row1_col5\" class=\"data row1 col5\" >138.22</td>\n",
       "      <td id=\"T_2094d_row1_col6\" class=\"data row1 col6\" >0.09</td>\n",
       "    </tr>\n",
       "    <tr>\n",
       "      <th id=\"T_2094d_level0_row2\" class=\"row_heading level0 row2\" >std</th>\n",
       "      <td id=\"T_2094d_row2_col0\" class=\"data row2 col0\" >22.46</td>\n",
       "      <td id=\"T_2094d_row2_col1\" class=\"data row2 col1\" >0.27</td>\n",
       "      <td id=\"T_2094d_row2_col2\" class=\"data row2 col2\" >0.20</td>\n",
       "      <td id=\"T_2094d_row2_col3\" class=\"data row2 col3\" >6.77</td>\n",
       "      <td id=\"T_2094d_row2_col4\" class=\"data row2 col4\" >1.07</td>\n",
       "      <td id=\"T_2094d_row2_col5\" class=\"data row2 col5\" >40.91</td>\n",
       "      <td id=\"T_2094d_row2_col6\" class=\"data row2 col6\" >0.28</td>\n",
       "    </tr>\n",
       "    <tr>\n",
       "      <th id=\"T_2094d_level0_row3\" class=\"row_heading level0 row3\" >min</th>\n",
       "      <td id=\"T_2094d_row3_col0\" class=\"data row3 col0\" >0.08</td>\n",
       "      <td id=\"T_2094d_row3_col1\" class=\"data row3 col1\" >0.00</td>\n",
       "      <td id=\"T_2094d_row3_col2\" class=\"data row3 col2\" >0.00</td>\n",
       "      <td id=\"T_2094d_row3_col3\" class=\"data row3 col3\" >10.01</td>\n",
       "      <td id=\"T_2094d_row3_col4\" class=\"data row3 col4\" >3.50</td>\n",
       "      <td id=\"T_2094d_row3_col5\" class=\"data row3 col5\" >80.00</td>\n",
       "      <td id=\"T_2094d_row3_col6\" class=\"data row3 col6\" >0.00</td>\n",
       "    </tr>\n",
       "    <tr>\n",
       "      <th id=\"T_2094d_level0_row4\" class=\"row_heading level0 row4\" >25%</th>\n",
       "      <td id=\"T_2094d_row4_col0\" class=\"data row4 col0\" >24.00</td>\n",
       "      <td id=\"T_2094d_row4_col1\" class=\"data row4 col1\" >0.00</td>\n",
       "      <td id=\"T_2094d_row4_col2\" class=\"data row4 col2\" >0.00</td>\n",
       "      <td id=\"T_2094d_row4_col3\" class=\"data row4 col3\" >23.40</td>\n",
       "      <td id=\"T_2094d_row4_col4\" class=\"data row4 col4\" >4.80</td>\n",
       "      <td id=\"T_2094d_row4_col5\" class=\"data row4 col5\" >100.00</td>\n",
       "      <td id=\"T_2094d_row4_col6\" class=\"data row4 col6\" >0.00</td>\n",
       "    </tr>\n",
       "    <tr>\n",
       "      <th id=\"T_2094d_level0_row5\" class=\"row_heading level0 row5\" >50%</th>\n",
       "      <td id=\"T_2094d_row5_col0\" class=\"data row5 col0\" >43.00</td>\n",
       "      <td id=\"T_2094d_row5_col1\" class=\"data row5 col1\" >0.00</td>\n",
       "      <td id=\"T_2094d_row5_col2\" class=\"data row5 col2\" >0.00</td>\n",
       "      <td id=\"T_2094d_row5_col3\" class=\"data row5 col3\" >27.32</td>\n",
       "      <td id=\"T_2094d_row5_col4\" class=\"data row5 col4\" >5.80</td>\n",
       "      <td id=\"T_2094d_row5_col5\" class=\"data row5 col5\" >140.00</td>\n",
       "      <td id=\"T_2094d_row5_col6\" class=\"data row5 col6\" >0.00</td>\n",
       "    </tr>\n",
       "    <tr>\n",
       "      <th id=\"T_2094d_level0_row6\" class=\"row_heading level0 row6\" >75%</th>\n",
       "      <td id=\"T_2094d_row6_col0\" class=\"data row6 col0\" >59.00</td>\n",
       "      <td id=\"T_2094d_row6_col1\" class=\"data row6 col1\" >0.00</td>\n",
       "      <td id=\"T_2094d_row6_col2\" class=\"data row6 col2\" >0.00</td>\n",
       "      <td id=\"T_2094d_row6_col3\" class=\"data row6 col3\" >29.86</td>\n",
       "      <td id=\"T_2094d_row6_col4\" class=\"data row6 col4\" >6.20</td>\n",
       "      <td id=\"T_2094d_row6_col5\" class=\"data row6 col5\" >159.00</td>\n",
       "      <td id=\"T_2094d_row6_col6\" class=\"data row6 col6\" >0.00</td>\n",
       "    </tr>\n",
       "    <tr>\n",
       "      <th id=\"T_2094d_level0_row7\" class=\"row_heading level0 row7\" >max</th>\n",
       "      <td id=\"T_2094d_row7_col0\" class=\"data row7 col0\" >80.00</td>\n",
       "      <td id=\"T_2094d_row7_col1\" class=\"data row7 col1\" >1.00</td>\n",
       "      <td id=\"T_2094d_row7_col2\" class=\"data row7 col2\" >1.00</td>\n",
       "      <td id=\"T_2094d_row7_col3\" class=\"data row7 col3\" >95.69</td>\n",
       "      <td id=\"T_2094d_row7_col4\" class=\"data row7 col4\" >9.00</td>\n",
       "      <td id=\"T_2094d_row7_col5\" class=\"data row7 col5\" >300.00</td>\n",
       "      <td id=\"T_2094d_row7_col6\" class=\"data row7 col6\" >1.00</td>\n",
       "    </tr>\n",
       "  </tbody>\n",
       "</table>\n"
      ],
      "text/plain": [
       "<pandas.io.formats.style.Styler at 0x27ca6fec7f0>"
      ]
     },
     "execution_count": 7,
     "metadata": {},
     "output_type": "execute_result"
    }
   ],
   "source": [
    "df.describe().style.format(\"{:.2f}\")"
   ]
  },
  {
   "cell_type": "code",
   "execution_count": 8,
   "metadata": {},
   "outputs": [
    {
     "data": {
      "text/html": [
       "<div>\n",
       "<style scoped>\n",
       "    .dataframe tbody tr th:only-of-type {\n",
       "        vertical-align: middle;\n",
       "    }\n",
       "\n",
       "    .dataframe tbody tr th {\n",
       "        vertical-align: top;\n",
       "    }\n",
       "\n",
       "    .dataframe thead th {\n",
       "        text-align: right;\n",
       "    }\n",
       "</style>\n",
       "<table border=\"1\" class=\"dataframe\">\n",
       "  <thead>\n",
       "    <tr style=\"text-align: right;\">\n",
       "      <th></th>\n",
       "      <th>gender</th>\n",
       "      <th>age</th>\n",
       "      <th>hypertension</th>\n",
       "      <th>heart_disease</th>\n",
       "      <th>smoking_history</th>\n",
       "      <th>bmi</th>\n",
       "      <th>blood_glucose_level</th>\n",
       "      <th>diabetes</th>\n",
       "    </tr>\n",
       "  </thead>\n",
       "  <tbody>\n",
       "    <tr>\n",
       "      <th>0</th>\n",
       "      <td>Female</td>\n",
       "      <td>80.00</td>\n",
       "      <td>0</td>\n",
       "      <td>1</td>\n",
       "      <td>never</td>\n",
       "      <td>25.19</td>\n",
       "      <td>140</td>\n",
       "      <td>0</td>\n",
       "    </tr>\n",
       "    <tr>\n",
       "      <th>1</th>\n",
       "      <td>Female</td>\n",
       "      <td>54.00</td>\n",
       "      <td>0</td>\n",
       "      <td>0</td>\n",
       "      <td>No Info</td>\n",
       "      <td>27.32</td>\n",
       "      <td>80</td>\n",
       "      <td>0</td>\n",
       "    </tr>\n",
       "    <tr>\n",
       "      <th>2</th>\n",
       "      <td>Male</td>\n",
       "      <td>28.00</td>\n",
       "      <td>0</td>\n",
       "      <td>0</td>\n",
       "      <td>never</td>\n",
       "      <td>27.32</td>\n",
       "      <td>158</td>\n",
       "      <td>0</td>\n",
       "    </tr>\n",
       "    <tr>\n",
       "      <th>3</th>\n",
       "      <td>Female</td>\n",
       "      <td>36.00</td>\n",
       "      <td>0</td>\n",
       "      <td>0</td>\n",
       "      <td>current</td>\n",
       "      <td>23.45</td>\n",
       "      <td>155</td>\n",
       "      <td>0</td>\n",
       "    </tr>\n",
       "    <tr>\n",
       "      <th>4</th>\n",
       "      <td>Male</td>\n",
       "      <td>76.00</td>\n",
       "      <td>1</td>\n",
       "      <td>1</td>\n",
       "      <td>current</td>\n",
       "      <td>20.14</td>\n",
       "      <td>155</td>\n",
       "      <td>0</td>\n",
       "    </tr>\n",
       "  </tbody>\n",
       "</table>\n",
       "</div>"
      ],
      "text/plain": [
       "   gender   age  hypertension  heart_disease smoking_history   bmi  \\\n",
       "0  Female 80.00             0              1           never 25.19   \n",
       "1  Female 54.00             0              0         No Info 27.32   \n",
       "2    Male 28.00             0              0           never 27.32   \n",
       "3  Female 36.00             0              0         current 23.45   \n",
       "4    Male 76.00             1              1         current 20.14   \n",
       "\n",
       "   blood_glucose_level  diabetes  \n",
       "0                  140         0  \n",
       "1                   80         0  \n",
       "2                  158         0  \n",
       "3                  155         0  \n",
       "4                  155         0  "
      ]
     },
     "execution_count": 8,
     "metadata": {},
     "output_type": "execute_result"
    }
   ],
   "source": [
    "df = df.drop(\"HbA1c_level\", axis = 1)\n",
    "df.head()"
   ]
  },
  {
   "cell_type": "code",
   "execution_count": 9,
   "metadata": {},
   "outputs": [
    {
     "name": "stdout",
     "output_type": "stream",
     "text": [
      "1    67276\n",
      "3    19655\n",
      "2     9197\n",
      "Name: smoking_history, dtype: int64\n"
     ]
    }
   ],
   "source": [
    "def recategorize_smoking(smoking_status):\n",
    "    if smoking_status in ['never', 'No Info']:\n",
    "        return 1\n",
    "    elif smoking_status == 'current':\n",
    "        return 2\n",
    "    elif smoking_status in ['ever', 'former', 'not current']:\n",
    "        return 3\n",
    "\n",
    "# Apply the function to the 'smoking_history' column\n",
    "df['smoking_history'] = df['smoking_history'].apply(recategorize_smoking)\n",
    "\n",
    "# Check the new value counts\n",
    "print(df['smoking_history'].value_counts())"
   ]
  },
  {
   "cell_type": "code",
   "execution_count": 10,
   "metadata": {},
   "outputs": [
    {
     "name": "stdout",
     "output_type": "stream",
     "text": [
      "0    56161\n",
      "1    39967\n",
      "Name: gender, dtype: int64\n"
     ]
    }
   ],
   "source": [
    "# Define a function to map the existing categories to new ones\n",
    "def recategorize_gender(gender_status):\n",
    "    if gender_status == 'Male':\n",
    "        return 1\n",
    "    elif gender_status == 'Female':\n",
    "        return 0\n",
    "\n",
    "# Apply the function to the 'smoking_history' column\n",
    "df['gender'] = df['gender'].apply(recategorize_gender)\n",
    "\n",
    "# Check the new value counts\n",
    "print(df['gender'].value_counts())"
   ]
  },
  {
   "cell_type": "code",
   "execution_count": 11,
   "metadata": {},
   "outputs": [
    {
     "data": {
      "text/html": [
       "<div>\n",
       "<style scoped>\n",
       "    .dataframe tbody tr th:only-of-type {\n",
       "        vertical-align: middle;\n",
       "    }\n",
       "\n",
       "    .dataframe tbody tr th {\n",
       "        vertical-align: top;\n",
       "    }\n",
       "\n",
       "    .dataframe thead th {\n",
       "        text-align: right;\n",
       "    }\n",
       "</style>\n",
       "<table border=\"1\" class=\"dataframe\">\n",
       "  <thead>\n",
       "    <tr style=\"text-align: right;\">\n",
       "      <th></th>\n",
       "      <th>gender</th>\n",
       "      <th>age</th>\n",
       "      <th>hypertension</th>\n",
       "      <th>heart_disease</th>\n",
       "      <th>smoking_history</th>\n",
       "      <th>bmi</th>\n",
       "      <th>diabetes</th>\n",
       "      <th>voltage_ratio</th>\n",
       "    </tr>\n",
       "  </thead>\n",
       "  <tbody>\n",
       "    <tr>\n",
       "      <th>0</th>\n",
       "      <td>0</td>\n",
       "      <td>80.00</td>\n",
       "      <td>0</td>\n",
       "      <td>1</td>\n",
       "      <td>1</td>\n",
       "      <td>25.19</td>\n",
       "      <td>0</td>\n",
       "      <td>56.24</td>\n",
       "    </tr>\n",
       "    <tr>\n",
       "      <th>1</th>\n",
       "      <td>0</td>\n",
       "      <td>54.00</td>\n",
       "      <td>0</td>\n",
       "      <td>0</td>\n",
       "      <td>1</td>\n",
       "      <td>27.32</td>\n",
       "      <td>0</td>\n",
       "      <td>72.80</td>\n",
       "    </tr>\n",
       "    <tr>\n",
       "      <th>2</th>\n",
       "      <td>1</td>\n",
       "      <td>28.00</td>\n",
       "      <td>0</td>\n",
       "      <td>0</td>\n",
       "      <td>1</td>\n",
       "      <td>27.32</td>\n",
       "      <td>0</td>\n",
       "      <td>51.27</td>\n",
       "    </tr>\n",
       "    <tr>\n",
       "      <th>3</th>\n",
       "      <td>0</td>\n",
       "      <td>36.00</td>\n",
       "      <td>0</td>\n",
       "      <td>0</td>\n",
       "      <td>2</td>\n",
       "      <td>23.45</td>\n",
       "      <td>0</td>\n",
       "      <td>52.10</td>\n",
       "    </tr>\n",
       "    <tr>\n",
       "      <th>4</th>\n",
       "      <td>1</td>\n",
       "      <td>76.00</td>\n",
       "      <td>1</td>\n",
       "      <td>1</td>\n",
       "      <td>2</td>\n",
       "      <td>20.14</td>\n",
       "      <td>0</td>\n",
       "      <td>52.10</td>\n",
       "    </tr>\n",
       "  </tbody>\n",
       "</table>\n",
       "</div>"
      ],
      "text/plain": [
       "   gender   age  hypertension  heart_disease  smoking_history   bmi  diabetes  \\\n",
       "0       0 80.00             0              1                1 25.19         0   \n",
       "1       0 54.00             0              0                1 27.32         0   \n",
       "2       1 28.00             0              0                1 27.32         0   \n",
       "3       0 36.00             0              0                2 23.45         0   \n",
       "4       1 76.00             1              1                2 20.14         0   \n",
       "\n",
       "   voltage_ratio  \n",
       "0          56.24  \n",
       "1          72.80  \n",
       "2          51.27  \n",
       "3          52.10  \n",
       "4          52.10  "
      ]
     },
     "execution_count": 11,
     "metadata": {},
     "output_type": "execute_result"
    }
   ],
   "source": [
    "# Create a new column in the DataFrame for the new feature\n",
    "glucose_level_column = df[\"blood_glucose_level\"]\n",
    "df[\"voltage_ratio\"] = -0.276*glucose_level_column + 94.882\n",
    "df = df.drop(\"blood_glucose_level\", axis=1)\n",
    "df.head(5)"
   ]
  },
  {
   "cell_type": "code",
   "execution_count": 12,
   "metadata": {},
   "outputs": [
    {
     "name": "stdout",
     "output_type": "stream",
     "text": [
      "       gender   age  hypertension  heart_disease  smoking_history   bmi  \\\n",
      "0           0 80.00             0              1                1 25.19   \n",
      "1           0 54.00             0              0                1 27.32   \n",
      "2           1 28.00             0              0                1 27.32   \n",
      "3           0 36.00             0              0                2 23.45   \n",
      "4           1 76.00             1              1                2 20.14   \n",
      "...       ...   ...           ...            ...              ...   ...   \n",
      "99994       0 36.00             0              0                1 24.60   \n",
      "99996       0  2.00             0              0                1 17.37   \n",
      "99997       1 66.00             0              0                3 27.83   \n",
      "99998       0 24.00             0              0                1 35.42   \n",
      "99999       0 57.00             0              0                2 22.43   \n",
      "\n",
      "       voltage_ratio  diabetes  \n",
      "0              56.24         0  \n",
      "1              72.80         0  \n",
      "2              51.27         0  \n",
      "3              52.10         0  \n",
      "4              52.10         0  \n",
      "...              ...       ...  \n",
      "99994          54.86         0  \n",
      "99996          67.28         0  \n",
      "99997          52.10         0  \n",
      "99998          67.28         0  \n",
      "99999          70.04         0  \n",
      "\n",
      "[96128 rows x 8 columns]\n"
     ]
    }
   ],
   "source": [
    "df = df[['gender', 'age', 'hypertension', 'heart_disease', 'smoking_history', 'bmi', 'voltage_ratio', 'diabetes']]\n",
    "\n",
    "print(df)"
   ]
  },
  {
   "cell_type": "code",
   "execution_count": 13,
   "metadata": {},
   "outputs": [
    {
     "data": {
      "image/png": "[encoded data removed]",
      "text/plain": [
       "<Figure size 1500x1000 with 2 Axes>"
      ]
     },
     "metadata": {},
     "output_type": "display_data"
    },
    {
     "data": {
      "image/png": "[encoded data removed]",
      "text/plain": [
       "<Figure size 640x480 with 2 Axes>"
      ]
     },
     "metadata": {},
     "output_type": "display_data"
    }
   ],
   "source": [
    "# Compute the correlation matrix\n",
    "correlation_matrix = df.corr()\n",
    "#Graph I.\n",
    "plt.figure(figsize=(15, 10))\n",
    "sns.heatmap(correlation_matrix, annot=True, cmap='coolwarm', linewidths=0.5, fmt='.2f')\n",
    "plt.title(\"Correlation Matrix Heatmap\")\n",
    "plt.show()\n",
    "\n",
    "\n",
    "#Graph II\n",
    "# Create a heatmap of the correlations with the target column\n",
    "corr = df.corr()\n",
    "target_corr = corr['diabetes'].drop('diabetes')\n",
    "\n",
    "# Sort correlation values in descending order\n",
    "target_corr_sorted = target_corr.sort_values(ascending=False)\n",
    "\n",
    "sns.set(font_scale=0.8)\n",
    "sns.set_style(\"white\")\n",
    "sns.set_palette(\"PuBuGn_d\")\n",
    "sns.heatmap(target_corr_sorted.to_frame(), cmap=\"coolwarm\", annot=True, fmt='.2f')\n",
    "plt.title('Correlation with Diabetes')\n",
    "plt.show()"
   ]
  },
  {
   "cell_type": "code",
   "execution_count": 45,
   "metadata": {},
   "outputs": [],
   "source": [
    "df_new = df.copy()"
   ]
  },
  {
   "cell_type": "code",
   "execution_count": 46,
   "metadata": {},
   "outputs": [],
   "source": [
    "# Split data into features and target variable\n",
    "X = df_new[['voltage_ratio', 'bmi', 'age']]\n",
    "y = df_new['diabetes']"
   ]
  },
  {
   "cell_type": "code",
   "execution_count": 47,
   "metadata": {},
   "outputs": [],
   "source": [
    "# Define resampling\n",
    "over = SMOTE(sampling_strategy=0.2)\n",
    "under = RandomUnderSampler(sampling_strategy=0.5)"
   ]
  },
  {
   "cell_type": "code",
   "execution_count": 48,
   "metadata": {},
   "outputs": [],
   "source": [
    "steps = [('o', over), ('u', under)]\n",
    "pipeline = imbPipeline(steps=steps)\n",
    "# transform the dataset\n",
    "X, y = pipeline.fit_resample(X, y)"
   ]
  },
  {
   "cell_type": "code",
   "execution_count": 49,
   "metadata": {},
   "outputs": [
    {
     "name": "stdout",
     "output_type": "stream",
     "text": [
      "35058\n",
      "17529\n"
     ]
    }
   ],
   "source": [
    "diabetes_1 = len(y[y == 1])  # Filter for rows where any value is 1\n",
    "diabetes_0 = len(y[y == 0]) # Filter for rows where any value is 0\n",
    "print(diabetes_0)\n",
    "print(diabetes_1)"
   ]
  },
  {
   "cell_type": "code",
   "execution_count": 50,
   "metadata": {},
   "outputs": [],
   "source": [
    "from sklearn.preprocessing import StandardScaler\n",
    "\n",
    "X_train, X_test, y_train, y_test = train_test_split(X, y, test_size=0.2, random_state=42)\n",
    "standard_scaler = StandardScaler()\n",
    "X_train = standard_scaler.fit_transform(X_train)\n",
    "X_test= standard_scaler.transform(X_test)\n"
   ]
  },
  {
   "cell_type": "code",
   "execution_count": 51,
   "metadata": {},
   "outputs": [],
   "source": [
    "param_grid = {\n",
    "    'n_estimators': [50, 100, 200],\n",
    "    'max_depth': [None, 10, 20],\n",
    "    'min_samples_split': [2, 5, 10],\n",
    "    'min_samples_leaf': [1, 2, 4]\n",
    "}"
   ]
  },
  {
   "cell_type": "code",
   "execution_count": 62,
   "metadata": {},
   "outputs": [
    {
     "name": "stdout",
     "output_type": "stream",
     "text": [
      "Best Parameters:  {'max_depth': 20, 'min_samples_leaf': 1, 'min_samples_split': 5, 'n_estimators': 100}\n",
      "Training accuracy: 0.9486320093180252\n",
      "Model Accuracy:  0.8769728085187298\n",
      "              precision    recall  f1-score   support\n",
      "\n",
      "           0       0.90      0.92      0.91      7024\n",
      "           1       0.84      0.78      0.81      3494\n",
      "\n",
      "    accuracy                           0.88     10518\n",
      "   macro avg       0.87      0.85      0.86     10518\n",
      "weighted avg       0.88      0.88      0.88     10518\n",
      "\n"
     ]
    },
    {
     "data": {
      "image/png": "[encoded data removed]",
      "text/plain": [
       "<Figure size 800x600 with 2 Axes>"
      ]
     },
     "metadata": {},
     "output_type": "display_data"
    }
   ],
   "source": [
    "# Create Grid Search object\n",
    "model = RandomForestClassifier()\n",
    "grid_search = GridSearchCV(model, param_grid, cv=5)\n",
    "\n",
    "\n",
    "# Train the model\n",
    "grid_search.fit(X_train, y_train)\n",
    "y_pred_train = grid_search.predict(X_train)\n",
    "train_accuracy = accuracy_score(y_train, y_pred_train)\n",
    "\n",
    "# Print the best parameters\n",
    "print(\"Best Parameters: \", grid_search.best_params_)\n",
    "\n",
    "# Predict on the test set using the best model\n",
    "y_pred = grid_search.predict(X_test)\n",
    "\n",
    "cm = confusion_matrix(y_test, y_pred)\n",
    "\n",
    "# Evaluate the model\n",
    "print('Training accuracy:', train_accuracy)\n",
    "print(\"Model Accuracy: \", accuracy_score(y_test, y_pred))\n",
    "print(classification_report(y_test, y_pred))\n",
    "\n",
    "# Plot confusion matrix\n",
    "\n",
    "plt.figure(figsize=(8, 6))\n",
    "sns.heatmap(cm, annot=True, fmt='d', cmap='Blues')\n",
    "plt.title('Confusion Matrix')\n",
    "plt.xlabel('Predicted')\n",
    "plt.ylabel('True')\n",
    "plt.show()"
   ]
  },
  {
   "cell_type": "code",
   "execution_count": 63,
   "metadata": {},
   "outputs": [
    {
     "name": "stdout",
     "output_type": "stream",
     "text": [
      "precision:  0.8365973072215422\n",
      "recall:  0.7824842587292501\n"
     ]
    }
   ],
   "source": [
    "from sklearn.metrics import precision_score, recall_score\n",
    "\n",
    "precision = precision_score(y_test, y_pred, pos_label=1)\n",
    "recall = recall_score(y_test, y_pred, pos_label=1)\n",
    "\n",
    "print(\"precision: \",precision)\n",
    "print(\"recall: \",recall)"
   ]
  },
  {
   "cell_type": "code",
   "execution_count": 64,
   "metadata": {},
   "outputs": [
    {
     "name": "stdout",
     "output_type": "stream",
     "text": [
      "         Feature  Importance\n",
      "0  voltage_ratio        0.48\n",
      "2            age        0.28\n",
      "1            bmi        0.25\n"
     ]
    },
    {
     "data": {
      "image/png": "[encoded data removed]",
      "text/plain": [
       "<Figure size 1200x800 with 1 Axes>"
      ]
     },
     "metadata": {},
     "output_type": "display_data"
    }
   ],
   "source": [
    "# Then we add the numeric feature names\n",
    "feature_names = list(df_new[['voltage_ratio', 'bmi', 'age']])\n",
    "\n",
    "# And now let's get the feature importances\n",
    "importances = grid_search.best_estimator_.feature_importances_\n",
    "\n",
    "# Create a dataframe for feature importance\n",
    "importance_df = pd.DataFrame({'Feature': feature_names, 'Importance': importances})\n",
    "\n",
    "# Sort the dataframe by importance\n",
    "importance_df = importance_df.sort_values('Importance', ascending=False)\n",
    "\n",
    "# Print the feature importances\n",
    "print(importance_df)\n",
    "\n",
    "# Plot the feature importances\n",
    "plt.figure(figsize=(12, 8))\n",
    "sns.barplot(x='Importance', y='Feature', data=importance_df)\n",
    "plt.title('Feature Importances')\n",
    "plt.show()"
   ]
  },
  {
   "cell_type": "code",
   "execution_count": 72,
   "metadata": {},
   "outputs": [
    {
     "data": {
      "image/png": "[encoded data removed]",
      "text/plain": [
       "<Figure size 640x480 with 1 Axes>"
      ]
     },
     "metadata": {},
     "output_type": "display_data"
    }
   ],
   "source": [
    "#PLOTTING GRAPH for model 1\n",
    "#ROC curve\n",
    "from sklearn.metrics import roc_auc_score,roc_curve\n",
    "\n",
    "roc_auc_score(y_test,y_pred)\n",
    "roc_curve(y_test,y_pred)\n",
    "fpr,tpr,thresholds = roc_curve(y_test,y_pred)\n",
    "auc = roc_auc_score(y_test,y_pred)\n",
    "\n",
    "plt.plot(fpr, tpr, color='green', label='ROC')\n",
    "plt.plot([0, 1], [0, 1], color='blue', linestyle='--',label='ROC curve (area = %0.2f)' % auc)\n",
    "plt.xlabel('False Positive Rate (1-Specificity)')\n",
    "plt.ylabel('True Positive Rate (Sensitivity/Recall)')\n",
    "plt.title('ROC Curve')\n",
    "plt.legend()\n",
    "plt.show()"
   ]
  },
  {
   "cell_type": "code",
   "execution_count": 73,
   "metadata": {},
   "outputs": [
    {
     "data": {
      "text/html": [
       "<div>\n",
       "<style scoped>\n",
       "    .dataframe tbody tr th:only-of-type {\n",
       "        vertical-align: middle;\n",
       "    }\n",
       "\n",
       "    .dataframe tbody tr th {\n",
       "        vertical-align: top;\n",
       "    }\n",
       "\n",
       "    .dataframe thead th {\n",
       "        text-align: right;\n",
       "    }\n",
       "</style>\n",
       "<table border=\"1\" class=\"dataframe\">\n",
       "  <thead>\n",
       "    <tr style=\"text-align: right;\">\n",
       "      <th></th>\n",
       "      <th>Pregnancies</th>\n",
       "      <th>Glucose</th>\n",
       "      <th>BloodPressure</th>\n",
       "      <th>SkinThickness</th>\n",
       "      <th>Insulin</th>\n",
       "      <th>BMI</th>\n",
       "      <th>DiabetesPedigreeFunction</th>\n",
       "      <th>Age</th>\n",
       "      <th>Outcome</th>\n",
       "    </tr>\n",
       "  </thead>\n",
       "  <tbody>\n",
       "    <tr>\n",
       "      <th>0</th>\n",
       "      <td>6</td>\n",
       "      <td>148</td>\n",
       "      <td>72</td>\n",
       "      <td>35</td>\n",
       "      <td>0</td>\n",
       "      <td>33.60</td>\n",
       "      <td>0.63</td>\n",
       "      <td>50</td>\n",
       "      <td>1</td>\n",
       "    </tr>\n",
       "    <tr>\n",
       "      <th>1</th>\n",
       "      <td>1</td>\n",
       "      <td>85</td>\n",
       "      <td>66</td>\n",
       "      <td>29</td>\n",
       "      <td>0</td>\n",
       "      <td>26.60</td>\n",
       "      <td>0.35</td>\n",
       "      <td>31</td>\n",
       "      <td>0</td>\n",
       "    </tr>\n",
       "    <tr>\n",
       "      <th>2</th>\n",
       "      <td>8</td>\n",
       "      <td>183</td>\n",
       "      <td>64</td>\n",
       "      <td>0</td>\n",
       "      <td>0</td>\n",
       "      <td>23.30</td>\n",
       "      <td>0.67</td>\n",
       "      <td>32</td>\n",
       "      <td>1</td>\n",
       "    </tr>\n",
       "    <tr>\n",
       "      <th>3</th>\n",
       "      <td>1</td>\n",
       "      <td>89</td>\n",
       "      <td>66</td>\n",
       "      <td>23</td>\n",
       "      <td>94</td>\n",
       "      <td>28.10</td>\n",
       "      <td>0.17</td>\n",
       "      <td>21</td>\n",
       "      <td>0</td>\n",
       "    </tr>\n",
       "    <tr>\n",
       "      <th>4</th>\n",
       "      <td>0</td>\n",
       "      <td>137</td>\n",
       "      <td>40</td>\n",
       "      <td>35</td>\n",
       "      <td>168</td>\n",
       "      <td>43.10</td>\n",
       "      <td>2.29</td>\n",
       "      <td>33</td>\n",
       "      <td>1</td>\n",
       "    </tr>\n",
       "  </tbody>\n",
       "</table>\n",
       "</div>"
      ],
      "text/plain": [
       "   Pregnancies  Glucose  BloodPressure  SkinThickness  Insulin   BMI  \\\n",
       "0            6      148             72             35        0 33.60   \n",
       "1            1       85             66             29        0 26.60   \n",
       "2            8      183             64              0        0 23.30   \n",
       "3            1       89             66             23       94 28.10   \n",
       "4            0      137             40             35      168 43.10   \n",
       "\n",
       "   DiabetesPedigreeFunction  Age  Outcome  \n",
       "0                      0.63   50        1  \n",
       "1                      0.35   31        0  \n",
       "2                      0.67   32        1  \n",
       "3                      0.17   21        0  \n",
       "4                      2.29   33        1  "
      ]
     },
     "execution_count": 73,
     "metadata": {},
     "output_type": "execute_result"
    }
   ],
   "source": [
    "dn = pd.read_csv('diabetes.csv')\n",
    "dn.head()"
   ]
  },
  {
   "cell_type": "code",
   "execution_count": 74,
   "metadata": {},
   "outputs": [
    {
     "data": {
      "text/html": [
       "<div>\n",
       "<style scoped>\n",
       "    .dataframe tbody tr th:only-of-type {\n",
       "        vertical-align: middle;\n",
       "    }\n",
       "\n",
       "    .dataframe tbody tr th {\n",
       "        vertical-align: top;\n",
       "    }\n",
       "\n",
       "    .dataframe thead th {\n",
       "        text-align: right;\n",
       "    }\n",
       "</style>\n",
       "<table border=\"1\" class=\"dataframe\">\n",
       "  <thead>\n",
       "    <tr style=\"text-align: right;\">\n",
       "      <th></th>\n",
       "      <th>Pregnancies</th>\n",
       "      <th>BloodPressure</th>\n",
       "      <th>SkinThickness</th>\n",
       "      <th>Insulin</th>\n",
       "      <th>BMI</th>\n",
       "      <th>DiabetesPedigreeFunction</th>\n",
       "      <th>Age</th>\n",
       "      <th>Outcome</th>\n",
       "      <th>voltage_ratio</th>\n",
       "    </tr>\n",
       "  </thead>\n",
       "  <tbody>\n",
       "    <tr>\n",
       "      <th>0</th>\n",
       "      <td>6</td>\n",
       "      <td>72</td>\n",
       "      <td>35</td>\n",
       "      <td>0</td>\n",
       "      <td>33.60</td>\n",
       "      <td>0.63</td>\n",
       "      <td>50</td>\n",
       "      <td>1</td>\n",
       "      <td>54.03</td>\n",
       "    </tr>\n",
       "    <tr>\n",
       "      <th>1</th>\n",
       "      <td>1</td>\n",
       "      <td>66</td>\n",
       "      <td>29</td>\n",
       "      <td>0</td>\n",
       "      <td>26.60</td>\n",
       "      <td>0.35</td>\n",
       "      <td>31</td>\n",
       "      <td>0</td>\n",
       "      <td>71.42</td>\n",
       "    </tr>\n",
       "    <tr>\n",
       "      <th>2</th>\n",
       "      <td>8</td>\n",
       "      <td>64</td>\n",
       "      <td>0</td>\n",
       "      <td>0</td>\n",
       "      <td>23.30</td>\n",
       "      <td>0.67</td>\n",
       "      <td>32</td>\n",
       "      <td>1</td>\n",
       "      <td>44.37</td>\n",
       "    </tr>\n",
       "    <tr>\n",
       "      <th>3</th>\n",
       "      <td>1</td>\n",
       "      <td>66</td>\n",
       "      <td>23</td>\n",
       "      <td>94</td>\n",
       "      <td>28.10</td>\n",
       "      <td>0.17</td>\n",
       "      <td>21</td>\n",
       "      <td>0</td>\n",
       "      <td>70.32</td>\n",
       "    </tr>\n",
       "    <tr>\n",
       "      <th>4</th>\n",
       "      <td>0</td>\n",
       "      <td>40</td>\n",
       "      <td>35</td>\n",
       "      <td>168</td>\n",
       "      <td>43.10</td>\n",
       "      <td>2.29</td>\n",
       "      <td>33</td>\n",
       "      <td>1</td>\n",
       "      <td>57.07</td>\n",
       "    </tr>\n",
       "  </tbody>\n",
       "</table>\n",
       "</div>"
      ],
      "text/plain": [
       "   Pregnancies  BloodPressure  SkinThickness  Insulin   BMI  \\\n",
       "0            6             72             35        0 33.60   \n",
       "1            1             66             29        0 26.60   \n",
       "2            8             64              0        0 23.30   \n",
       "3            1             66             23       94 28.10   \n",
       "4            0             40             35      168 43.10   \n",
       "\n",
       "   DiabetesPedigreeFunction  Age  Outcome  voltage_ratio  \n",
       "0                      0.63   50        1          54.03  \n",
       "1                      0.35   31        0          71.42  \n",
       "2                      0.67   32        1          44.37  \n",
       "3                      0.17   21        0          70.32  \n",
       "4                      2.29   33        1          57.07  "
      ]
     },
     "execution_count": 74,
     "metadata": {},
     "output_type": "execute_result"
    }
   ],
   "source": [
    "# Create a new column in the DataFrame for the new feature\n",
    "glucose_level_column = dn[\"Glucose\"]\n",
    "dn[\"voltage_ratio\"] = -0.276*glucose_level_column + 94.882\n",
    "dn = dn.drop(\"Glucose\", axis=1)\n",
    "dn.head(5)"
   ]
  },
  {
   "cell_type": "code",
   "execution_count": 75,
   "metadata": {},
   "outputs": [
    {
     "data": {
      "text/html": [
       "<div>\n",
       "<style scoped>\n",
       "    .dataframe tbody tr th:only-of-type {\n",
       "        vertical-align: middle;\n",
       "    }\n",
       "\n",
       "    .dataframe tbody tr th {\n",
       "        vertical-align: top;\n",
       "    }\n",
       "\n",
       "    .dataframe thead th {\n",
       "        text-align: right;\n",
       "    }\n",
       "</style>\n",
       "<table border=\"1\" class=\"dataframe\">\n",
       "  <thead>\n",
       "    <tr style=\"text-align: right;\">\n",
       "      <th></th>\n",
       "      <th>Pregnancies</th>\n",
       "      <th>BloodPressure</th>\n",
       "      <th>SkinThickness</th>\n",
       "      <th>Insulin</th>\n",
       "      <th>bmi</th>\n",
       "      <th>DiabetesPedigreeFunction</th>\n",
       "      <th>age</th>\n",
       "      <th>diabetes</th>\n",
       "      <th>voltage_ratio</th>\n",
       "    </tr>\n",
       "  </thead>\n",
       "  <tbody>\n",
       "    <tr>\n",
       "      <th>0</th>\n",
       "      <td>6</td>\n",
       "      <td>72</td>\n",
       "      <td>35</td>\n",
       "      <td>0</td>\n",
       "      <td>33.60</td>\n",
       "      <td>0.63</td>\n",
       "      <td>50</td>\n",
       "      <td>1</td>\n",
       "      <td>54.03</td>\n",
       "    </tr>\n",
       "    <tr>\n",
       "      <th>1</th>\n",
       "      <td>1</td>\n",
       "      <td>66</td>\n",
       "      <td>29</td>\n",
       "      <td>0</td>\n",
       "      <td>26.60</td>\n",
       "      <td>0.35</td>\n",
       "      <td>31</td>\n",
       "      <td>0</td>\n",
       "      <td>71.42</td>\n",
       "    </tr>\n",
       "    <tr>\n",
       "      <th>2</th>\n",
       "      <td>8</td>\n",
       "      <td>64</td>\n",
       "      <td>0</td>\n",
       "      <td>0</td>\n",
       "      <td>23.30</td>\n",
       "      <td>0.67</td>\n",
       "      <td>32</td>\n",
       "      <td>1</td>\n",
       "      <td>44.37</td>\n",
       "    </tr>\n",
       "    <tr>\n",
       "      <th>3</th>\n",
       "      <td>1</td>\n",
       "      <td>66</td>\n",
       "      <td>23</td>\n",
       "      <td>94</td>\n",
       "      <td>28.10</td>\n",
       "      <td>0.17</td>\n",
       "      <td>21</td>\n",
       "      <td>0</td>\n",
       "      <td>70.32</td>\n",
       "    </tr>\n",
       "    <tr>\n",
       "      <th>4</th>\n",
       "      <td>0</td>\n",
       "      <td>40</td>\n",
       "      <td>35</td>\n",
       "      <td>168</td>\n",
       "      <td>43.10</td>\n",
       "      <td>2.29</td>\n",
       "      <td>33</td>\n",
       "      <td>1</td>\n",
       "      <td>57.07</td>\n",
       "    </tr>\n",
       "  </tbody>\n",
       "</table>\n",
       "</div>"
      ],
      "text/plain": [
       "   Pregnancies  BloodPressure  SkinThickness  Insulin   bmi  \\\n",
       "0            6             72             35        0 33.60   \n",
       "1            1             66             29        0 26.60   \n",
       "2            8             64              0        0 23.30   \n",
       "3            1             66             23       94 28.10   \n",
       "4            0             40             35      168 43.10   \n",
       "\n",
       "   DiabetesPedigreeFunction  age  diabetes  voltage_ratio  \n",
       "0                      0.63   50         1          54.03  \n",
       "1                      0.35   31         0          71.42  \n",
       "2                      0.67   32         1          44.37  \n",
       "3                      0.17   21         0          70.32  \n",
       "4                      2.29   33         1          57.07  "
      ]
     },
     "execution_count": 75,
     "metadata": {},
     "output_type": "execute_result"
    }
   ],
   "source": [
    "dn = dn.rename(columns = {'Age':'age','BMI':'bmi','Outcome' : 'diabetes'})\n",
    "dn.head()"
   ]
  },
  {
   "cell_type": "code",
   "execution_count": 76,
   "metadata": {},
   "outputs": [
    {
     "name": "stdout",
     "output_type": "stream",
     "text": [
      "     age   bmi  voltage_ratio  diabetes\n",
      "0     50 33.60          54.03         1\n",
      "1     31 26.60          71.42         0\n",
      "2     32 23.30          44.37         1\n",
      "3     21 28.10          70.32         0\n",
      "4     33 43.10          57.07         1\n",
      "..   ...   ...            ...       ...\n",
      "763   63 32.90          67.01         0\n",
      "764   27 36.80          61.21         0\n",
      "765   30 26.20          61.49         0\n",
      "766   47 30.10          60.11         1\n",
      "767   23 30.40          69.21         0\n",
      "\n",
      "[768 rows x 4 columns]\n"
     ]
    }
   ],
   "source": [
    "dn = dn[['age' ,'bmi', 'voltage_ratio', 'diabetes']]\n",
    "\n",
    "print(dn)"
   ]
  },
  {
   "cell_type": "code",
   "execution_count": 77,
   "metadata": {},
   "outputs": [],
   "source": [
    "X_val = dn[['voltage_ratio', 'bmi', 'age']]\n",
    "y_val = dn['diabetes']"
   ]
  },
  {
   "cell_type": "code",
   "execution_count": 78,
   "metadata": {},
   "outputs": [
    {
     "name": "stdout",
     "output_type": "stream",
     "text": [
      "Validation Accuracy:  0.6510416666666666\n",
      "              precision    recall  f1-score   support\n",
      "\n",
      "           0       0.65      1.00      0.79       500\n",
      "           1       0.00      0.00      0.00       268\n",
      "\n",
      "    accuracy                           0.65       768\n",
      "   macro avg       0.33      0.50      0.39       768\n",
      "weighted avg       0.42      0.65      0.51       768\n",
      "\n"
     ]
    }
   ],
   "source": [
    "# Predict on the test set using the best model\n",
    "validation = grid_search.predict(X_val)\n",
    "\n",
    "cm = confusion_matrix(y_val, validation)\n",
    "\n",
    "# Evaluate the model\n",
    "print(\"Validation Accuracy: \", accuracy_score(y_val, validation))\n",
    "print(classification_report(y_val, validation))"
   ]
  },
  {
   "cell_type": "code",
   "execution_count": null,
   "metadata": {},
   "outputs": [],
   "source": []
  }
 ],
 "metadata": {
  "kernelspec": {
   "display_name": "base",
   "language": "python",
   "name": "python3"
  },
  "language_info": {
   "codemirror_mode": {
    "name": "ipython",
    "version": 3
   },
   "file_extension": ".py",
   "mimetype": "text/x-python",
   "name": "python",
   "nbconvert_exporter": "python",
   "pygments_lexer": "ipython3",
   "version": "3.10.9"
  }
 },
 "nbformat": 4,
 "nbformat_minor": 2
}
